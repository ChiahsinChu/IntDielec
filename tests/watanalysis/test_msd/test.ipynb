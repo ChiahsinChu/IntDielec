{
  "cells": [
  {
   "cell_type": "code",
   "execution_count": 1,
   "metadata": {},
   "outputs": [
    {
     "name": "stderr",
     "output_type": "stream",
     "text": [
      "/opt/miniconda3/envs/leiden/lib/python3.9/site-packages/tqdm/auto.py:22: TqdmWarning: IProgress not found. Please update jupyter and ipywidgets. See https://ipywidgets.readthedocs.io/en/stable/user_install.html\n",
      "  from .autonotebook import tqdm as notebook_tqdm\n"
     ]
    }
   ],
   "source": [
    "import numpy as np\n",
    "\n",
    "import MDAnalysis as mda"
   ]
  },
  {
   "cell_type": "code",
   "execution_count": null,
   "metadata": {},
   "outputs": [],
   "source": [
    "# for ii in range(20):\n",
    "#     atoms = Atoms(\"HO\", [[0, 0, ii], [0, 0, 0]])\n",
    "#     io.write(\"test_traj_simple.xyz\", atoms, append=True)\n",
    "\n",
    "# for ii in range(20):\n",
    "#     atoms = Atoms(\"HO\", [[0, 0, ii + np.random.uniform(-0.5, 0.5)], [0, 0, 0]])\n",
    "#     io.write(\"test_traj_random.xyz\", atoms, append=True)"
   ]
  },
  {
   "cell_type": "code",
   "execution_count": 2,
   "metadata": {},
   "outputs": [
    {
     "name": "stdout",
     "output_type": "stream",
     "text": [
      "<XYZReader test_traj_simple.xyz with 20 frames of 2 atoms>\n",
      "<XYZReader test_traj_random.xyz with 20 frames of 2 atoms>\n"
     ]
    }
   ],
   "source": [
    "u_simple = mda.Universe(\"test_traj_simple.xyz\", \"test_traj_simple.xyz\")\n",
    "print(u_simple.trajectory)\n",
    "u_random = mda.Universe(\"test_traj_random.xyz\", \"test_traj_random.xyz\")\n",
    "print(u_random.trajectory)"
   ]
  },
  {
   "attachments": {},
   "cell_type": "markdown",
   "metadata": {},
   "source": [
    "# MDA MSD"
   ]
  },
  {
   "cell_type": "code",
   "execution_count": null,
   "metadata": {},
   "outputs": [],
   "source": [
    "import MDAnalysis.analysis.msd as msd"
   ]
  },
  {
   "cell_type": "code",
   "execution_count": null,
   "metadata": {},
   "outputs": [],
   "source": [
    "MSD = msd.EinsteinMSD(u_simple, select=\"name H\", msd_type=\"z\", fft=False)\n",
    "MSD.run()\n",
    "print(MSD.results.timeseries)"
   ]
  },
  {
   "cell_type": "code",
   "execution_count": null,
   "metadata": {},
   "outputs": [],
   "source": [
    "MSD = msd.EinsteinMSD(u_random, select=\"name H\", msd_type=\"z\", fft=False)\n",
    "MSD.run()\n",
    "print(MSD.results.timeseries)"
   ]
  },
  {
   "attachments": {},
   "cell_type": "markdown",
   "metadata": {},
   "source": [
    "# my MSD"
   ]
  },
  {
   "cell_type": "code",
   "execution_count": 3,
   "metadata": {},
   "outputs": [],
   "source": [
    "from intdielec.watanalysis.acf import SelectedMSD"
   ]
  },
  {
   "cell_type": "code",
   "execution_count": 4,
   "metadata": {},
   "outputs": [
    {
     "name": "stderr",
     "output_type": "stream",
     "text": [
      "  0%|          | 0/20 [00:00<?, ?it/s]/Users/mac/workspace/software/mdanalysis/package/MDAnalysis/analysis/base.py:438: UserWarning: Reader has no dt information, set to 1.0 ps\n",
      "  self.times[i] = ts.time\n",
      "100%|██████████| 20/20 [00:00<00:00, 1107.23it/s]"
     ]
    },
    {
     "name": "stdout",
     "output_type": "stream",
     "text": [
      "[ True]\n",
      "[ True]\n",
      "[ True]\n",
      "[ True]\n",
      "[ True]\n",
      "[ True]\n",
      "[ True]\n",
      "[ True]\n",
      "[ True]\n",
      "[ True]\n",
      "[ True]\n",
      "[ True]\n",
      "[ True]\n",
      "[ True]\n",
      "[ True]\n",
      "[ True]\n",
      "[ True]\n",
      "[ True]\n",
      "[ True]\n",
      "[ True]\n",
      "[ 1.13241341  4.27924977  9.3145702  16.10972112 25.29030228 36.37114716\n",
      " 49.99328408 65.05713463 82.61514629]\n"
     ]
    },
    {
     "name": "stderr",
     "output_type": "stream",
     "text": [
      "\n"
     ]
    }
   ],
   "source": [
    "msd_task = SelectedMSD(u_random.select_atoms(\"name H\"), dts=np.arange(1, 10))\n",
    "msd_task.run()\n",
    "print(msd_task.acf)"
   ]
  },
  {
   "cell_type": "code",
   "execution_count": 5,
   "metadata": {},
   "outputs": [
    {
     "name": "stderr",
     "output_type": "stream",
     "text": [
      "100%|██████████| 20/20 [00:00<00:00, 1802.41it/s]"
     ]
    },
    {
     "name": "stdout",
     "output_type": "stream",
     "text": [
      "[ True]\n",
      "[ True]\n",
      "[ True]\n",
      "[ True]\n",
      "[ True]\n",
      "[ True]\n",
      "[False]\n",
      "[False]\n",
      "[False]\n",
      "[False]\n",
      "[False]\n",
      "[False]\n",
      "[False]\n",
      "[False]\n",
      "[False]\n",
      "[False]\n",
      "[False]\n",
      "[False]\n",
      "[False]\n",
      "[False]\n",
      "[ 1.02320214  3.75518802  8.54235506 13.68883514 19.58188057  0.\n",
      "  0.          0.          0.        ]\n"
     ]
    },
    {
     "name": "stderr",
     "output_type": "stream",
     "text": [
      "\n"
     ]
    }
   ],
   "source": [
    "msd_task = SelectedMSD(\n",
    "    u_random.select_atoms(\"name H\"),\n",
    "    dts=np.arange(1, 10),\n",
    "    refs=[u_random.select_atoms(\"name O\")],\n",
    "    cutoff=5,\n",
    ")\n",
    "msd_task.run()\n",
    "print(msd_task.acf)"
   ]
  },
  {
   "cell_type": "code",
   "execution_count": 10,
   "metadata": {},
   "outputs": [
    {
     "name": "stderr",
     "output_type": "stream",
     "text": [
      "100%|██████████| 8/8 [00:00<00:00, 1385.97it/s]"
     ]
    },
    {
     "name": "stdout",
     "output_type": "stream",
     "text": [
      "[ True]\n",
      "[ True]\n",
      "[ True]\n",
      "[ True]\n",
      "[ True]\n",
      "[ True]\n",
      "[False]\n",
      "[False]\n"
     ]
    },
    {
     "name": "stderr",
     "output_type": "stream",
     "text": [
      "\n"
     ]
    },
    {
     "data": {
      "text/plain": [
       "<intdielec.watanalysis.acf.TestSelectedMSD at 0x7fe72d76dc70>"
      ]
     },
     "execution_count": 10,
     "metadata": {},
     "output_type": "execute_result"
    }
   ],
   "source": [
    "msd_task = SelectedMSD(\n",
    "    u_random.select_atoms(\"name H\"),\n",
    "    dts=np.arange(1, 10),\n",
    "    refs=[u_random.select_atoms(\"name O\")],\n",
    "    cutoff=5,\n",
    ")\n",
    "msd_task.run(start=0, stop=8)"
   ]
  },
  {
   "cell_type": "code",
   "execution_count": 11,
   "metadata": {},
   "outputs": [
    {
     "name": "stdout",
     "output_type": "stream",
     "text": [
      "[ 1.02320214  3.75518802  8.54235506 13.68883514 19.58188057  0.\n",
      "  0.          0.          0.        ]\n"
     ]
    }
   ],
   "source": [
    "print(msd_task.acf)"
   ]
  },
  {
   "cell_type": "code",
   "execution_count": 2,
   "metadata": {},
   "outputs": [],
   "source": [
    "n_wat = 97\n",
    "n_metal = 16\n",
    "# n_layer = 6\n",
    "surf_ids = [\n",
    "    np.arange(n_wat * 3, n_wat * 3 + n_metal),\n",
    "    np.arange(n_wat * 3 + n_metal * 5, n_wat * 3 + n_metal * 6),\n",
    "]"
   ]
  },
  {
   "cell_type": "code",
   "execution_count": 3,
   "metadata": {},
   "outputs": [
    {
     "data": {
      "text/plain": [
       "[array([291, 292, 293, 294, 295, 296, 297, 298, 299, 300, 301, 302, 303,\n",
       "        304, 305, 306]),\n",
       " array([371, 372, 373, 374, 375, 376, 377, 378, 379, 380, 381, 382, 383,\n",
       "        384, 385, 386])]"
      ]
     },
     "execution_count": 3,
     "metadata": {},
     "output_type": "execute_result"
    }
   ],
   "source": [
    "surf_ids"
   ]
  },
  {
   "cell_type": "code",
   "execution_count": null,
   "metadata": {},
   "outputs": [],
   "source": []
  }
 ],
 "metadata": {
  "kernelspec": {
   "display_name": "leiden",
   "language": "python",
   "name": "python3"
  },
  "language_info": {
   "codemirror_mode": {
    "name": "ipython",
    "version": 3
   },
   "file_extension": ".py",
   "mimetype": "text/x-python",
   "name": "python",
   "nbconvert_exporter": "python",
   "pygments_lexer": "ipython3",
   "version": "3.9.16"
  },
  "orig_nbformat": 4
 },
 "nbformat": 4,
 "nbformat_minor": 2
}
