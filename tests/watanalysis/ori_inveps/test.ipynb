{
  "cells": [
  {
   "cell_type": "code",
   "execution_count": 1,
   "metadata": {},
   "outputs": [
    {
     "name": "stderr",
     "output_type": "stream",
     "text": [
      "/opt/miniconda3/envs/leiden/lib/python3.9/site-packages/tqdm/auto.py:22: TqdmWarning: IProgress not found. Please update jupyter and ipywidgets. See https://ipywidgets.readthedocs.io/en/stable/user_install.html\n",
      "  from .autonotebook import tqdm as notebook_tqdm\n"
     ]
    }
   ],
   "source": [
    "import MDAnalysis as mda\n",
    "from toolbox.utils import *"
   ]
  },
  {
   "cell_type": "code",
   "execution_count": 2,
   "metadata": {},
   "outputs": [
    {
     "name": "stdout",
     "output_type": "stream",
     "text": [
      "[0. 0. 0. 0. 0. 0. 0. 0. 0. 0. 0. 0. 0. 0. 0. 0. 0. 0. 0. 0. 0. 0. 0. 0.\n",
      " 0. 0. 0. 0. 0. 0. 0. 0. 0. 0. 0. 0. 0. 0. 0. 0. 0. 0. 0. 0. 0. 0. 0. 0.\n",
      " 0. 0. 0. 0. 0. 0. 0. 0. 0. 0. 0. 0. 0. 0. 0. 0. 0. 0. 0. 0. 0. 0. 0. 0.\n",
      " 0. 0. 0. 0. 0. 0. 0. 0. 0. 0. 0. 0. 0. 0. 0. 0. 0. 0. 0. 0. 0. 0. 0. 0.\n",
      " 0. 0. 0. 0. 0. 0. 0. 0. 0. 0. 0. 0. 0. 0. 0. 0. 0. 0. 0. 0. 0. 0. 0. 0.\n",
      " 0. 0. 0. 0. 0. 0. 0. 0. 0. 0. 0. 0. 0. 0. 0. 0. 0. 0. 0. 0. 0. 0. 0. 0.\n",
      " 0. 0. 0. 0. 0. 0. 0. 0. 0. 0. 0. 0. 0. 0. 0. 0. 0. 0. 0. 0. 0. 0. 0. 0.\n",
      " 0. 0. 0. 0. 0. 0. 0. 0. 0. 0. 0. 0. 0. 0. 0. 0. 0. 0. 0. 0. 0. 0. 0. 0.\n",
      " 0. 0. 0. 0. 0. 0. 0. 0. 0. 0. 0. 0. 0. 0. 0. 0. 0. 0. 0. 0. 0. 0. 0. 0.\n",
      " 0. 0. 0. 0. 0. 0. 0. 0. 0. 0. 0. 0. 0. 0. 0. 0. 0. 0. 0. 0. 0. 0. 0. 0.\n",
      " 0. 0. 0. 0. 0. 0. 0. 0. 0. 0. 0. 0. 0. 0. 0. 0. 0. 0. 0. 0. 0. 0. 0. 0.\n",
      " 0. 0. 0. 0. 0. 0. 0. 0. 0. 0. 0. 0. 0. 0. 0. 0. 0. 0. 0. 0. 0. 0. 0. 0.\n",
      " 0. 0. 0. 0. 0. 0. 0. 0. 0. 0. 0. 0. 0. 0. 0. 0. 0. 0. 0. 0. 0. 0. 0. 0.\n",
      " 0. 0. 0. 0. 0. 0. 0. 0. 0. 0. 0. 0. 0. 0. 0. 0. 0. 0. 0. 0. 0. 0. 0. 0.\n",
      " 0. 0. 0. 0. 0. 0. 0. 0. 0. 0. 0. 0. 0. 0. 0. 0. 0. 0. 0. 0. 0. 0. 0. 0.\n",
      " 0. 0. 0. 0. 0. 0. 0. 0. 0. 0. 0. 0. 0. 0. 0. 0. 0. 0. 0. 0. 0. 0. 0. 0.\n",
      " 0. 0. 0.]\n"
     ]
    }
   ],
   "source": [
    "atoms = io.read(\"input_data/coord.xyz\")\n",
    "print(atoms.get_initial_charges())"
   ]
  },
  {
   "cell_type": "code",
   "execution_count": 3,
   "metadata": {},
   "outputs": [
    {
     "name": "stdout",
     "output_type": "stream",
     "text": [
      "Set charges!\n"
     ]
    }
   ],
   "source": [
    "traj = \"input_data/test.lammpstrj\"\n",
    "topo = \"input_data/coord.xyz\"\n",
    "u = mda.Universe(topo, traj, topology_format=\"XYZ\", format=\"LAMMPSDUMP\")"
   ]
  },
  {
   "cell_type": "code",
   "execution_count": 11,
   "metadata": {},
   "outputs": [
    {
     "data": {
      "text/plain": [
       "array([0., 0., 0., 0., 0., 0., 0., 0., 0., 0., 0., 0., 0., 0., 0., 0., 0.,\n",
       "       0., 0., 0., 0., 0., 0., 0., 0., 0., 0., 0., 0., 0., 0., 0., 0., 0.,\n",
       "       0., 0., 0., 0., 0., 0., 0., 0., 0., 0., 0., 0., 0., 0., 0., 0., 0.,\n",
       "       0., 0., 0., 0., 0., 0., 0., 0., 0., 0., 0., 0., 0., 0., 0., 0., 0.,\n",
       "       0., 0., 0., 0., 0., 0., 0., 0., 0., 0., 0., 0., 0., 0., 0., 0., 0.,\n",
       "       0., 0., 0., 0., 0., 0., 0., 0., 0., 0., 0., 0., 0., 0., 0., 0., 0.,\n",
       "       0., 0., 0., 0., 0., 0., 0., 0., 0., 0., 0., 0., 0., 0., 0., 0., 0.,\n",
       "       0., 0., 0., 0., 0., 0., 0., 0., 0., 0., 0., 0., 0., 0., 0., 0., 0.,\n",
       "       0., 0., 0., 0., 0., 0., 0., 0., 0., 0., 0., 0., 0., 0., 0., 0., 0.,\n",
       "       0., 0., 0., 0., 0., 0., 0., 0., 0., 0., 0., 0., 0., 0., 0., 0., 0.,\n",
       "       0., 0., 0., 0., 0., 0., 0., 0., 0., 0., 0., 0., 0., 0., 0., 0., 0.,\n",
       "       0., 0., 0., 0., 0., 0., 0., 0., 0., 0., 0., 0., 0., 0., 0., 0., 0.,\n",
       "       0., 0., 0., 0., 0., 0., 0., 0., 0., 0., 0., 0., 0., 0., 0., 0., 0.,\n",
       "       0., 0., 0., 0., 0., 0., 0., 0., 0., 0., 0., 0., 0., 0., 0., 0., 0.,\n",
       "       0., 0., 0., 0., 0., 0., 0., 0., 0., 0., 0., 0., 0., 0., 0., 0., 0.,\n",
       "       0., 0., 0., 0., 0., 0., 0., 0., 0., 0., 0., 0., 0., 0., 0., 0., 0.,\n",
       "       0., 0., 0., 0., 0., 0., 0., 0., 0., 0., 0., 0., 0., 0., 0., 0., 0.,\n",
       "       0., 0., 0., 0., 0., 0., 0., 0., 0., 0., 0., 0., 0., 0., 0., 0., 0.,\n",
       "       0., 0., 0., 0., 0., 0., 0., 0., 0., 0., 0., 0., 0., 0., 0., 0., 0.,\n",
       "       0., 0., 0., 0., 0., 0., 0., 0., 0., 0., 0., 0., 0., 0., 0., 0., 0.,\n",
       "       0., 0., 0., 0., 0., 0., 0., 0., 0., 0., 0., 0., 0., 0., 0., 0., 0.,\n",
       "       0., 0., 0., 0., 0., 0., 0., 0., 0., 0., 0., 0., 0., 0., 0., 0., 0.,\n",
       "       0., 0., 0., 0., 0., 0., 0., 0., 0., 0., 0., 0., 0.])"
      ]
     },
     "execution_count": 11,
     "metadata": {},
     "output_type": "execute_result"
    }
   ],
   "source": [
    "u.atoms.charges"
   ]
  },
  {
   "cell_type": "code",
   "execution_count": 9,
   "metadata": {},
   "outputs": [],
   "source": [
    "traj = \"input_data/test.lammpstrj\"\n",
    "topo = \"input_data/interface.psf\"\n",
    "u = mda.Universe(topo, traj, topology_format=\"PSF\", format=\"LAMMPSDUMP\")"
   ]
  },
  {
   "cell_type": "code",
   "execution_count": 10,
   "metadata": {},
   "outputs": [
    {
     "data": {
      "text/plain": [
       "array([-0.83399999,  0.417     ,  0.417     , -0.83399999,  0.417     ,\n",
       "        0.417     , -0.83399999,  0.417     ,  0.417     , -0.83399999,\n",
       "        0.417     ,  0.417     , -0.83399999,  0.417     ,  0.417     ,\n",
       "       -0.83399999,  0.417     ,  0.417     , -0.83399999,  0.417     ,\n",
       "        0.417     , -0.83399999,  0.417     ,  0.417     , -0.83399999,\n",
       "        0.417     ,  0.417     , -0.83399999,  0.417     ,  0.417     ,\n",
       "       -0.83399999,  0.417     ,  0.417     , -0.83399999,  0.417     ,\n",
       "        0.417     , -0.83399999,  0.417     ,  0.417     , -0.83399999,\n",
       "        0.417     ,  0.417     , -0.83399999,  0.417     ,  0.417     ,\n",
       "       -0.83399999,  0.417     ,  0.417     , -0.83399999,  0.417     ,\n",
       "        0.417     , -0.83399999,  0.417     ,  0.417     , -0.83399999,\n",
       "        0.417     ,  0.417     , -0.83399999,  0.417     ,  0.417     ,\n",
       "       -0.83399999,  0.417     ,  0.417     , -0.83399999,  0.417     ,\n",
       "        0.417     , -0.83399999,  0.417     ,  0.417     , -0.83399999,\n",
       "        0.417     ,  0.417     , -0.83399999,  0.417     ,  0.417     ,\n",
       "       -0.83399999,  0.417     ,  0.417     , -0.83399999,  0.417     ,\n",
       "        0.417     , -0.83399999,  0.417     ,  0.417     , -0.83399999,\n",
       "        0.417     ,  0.417     , -0.83399999,  0.417     ,  0.417     ,\n",
       "       -0.83399999,  0.417     ,  0.417     , -0.83399999,  0.417     ,\n",
       "        0.417     , -0.83399999,  0.417     ,  0.417     , -0.83399999,\n",
       "        0.417     ,  0.417     , -0.83399999,  0.417     ,  0.417     ,\n",
       "       -0.83399999,  0.417     ,  0.417     , -0.83399999,  0.417     ,\n",
       "        0.417     , -0.83399999,  0.417     ,  0.417     , -0.83399999,\n",
       "        0.417     ,  0.417     , -0.83399999,  0.417     ,  0.417     ,\n",
       "       -0.83399999,  0.417     ,  0.417     , -0.83399999,  0.417     ,\n",
       "        0.417     , -0.83399999,  0.417     ,  0.417     , -0.83399999,\n",
       "        0.417     ,  0.417     , -0.83399999,  0.417     ,  0.417     ,\n",
       "       -0.83399999,  0.417     ,  0.417     , -0.83399999,  0.417     ,\n",
       "        0.417     , -0.83399999,  0.417     ,  0.417     , -0.83399999,\n",
       "        0.417     ,  0.417     , -0.83399999,  0.417     ,  0.417     ,\n",
       "       -0.83399999,  0.417     ,  0.417     , -0.83399999,  0.417     ,\n",
       "        0.417     , -0.83399999,  0.417     ,  0.417     , -0.83399999,\n",
       "        0.417     ,  0.417     , -0.83399999,  0.417     ,  0.417     ,\n",
       "       -0.83399999,  0.417     ,  0.417     , -0.83399999,  0.417     ,\n",
       "        0.417     , -0.83399999,  0.417     ,  0.417     , -0.83399999,\n",
       "        0.417     ,  0.417     , -0.83399999,  0.417     ,  0.417     ,\n",
       "       -0.83399999,  0.417     ,  0.417     , -0.83399999,  0.417     ,\n",
       "        0.417     , -0.83399999,  0.417     ,  0.417     , -0.83399999,\n",
       "        0.417     ,  0.417     , -0.83399999,  0.417     ,  0.417     ,\n",
       "       -0.83399999,  0.417     ,  0.417     , -0.83399999,  0.417     ,\n",
       "        0.417     , -0.83399999,  0.417     ,  0.417     , -0.83399999,\n",
       "        0.417     ,  0.417     , -0.83399999,  0.417     ,  0.417     ,\n",
       "       -0.83399999,  0.417     ,  0.417     , -0.83399999,  0.417     ,\n",
       "        0.417     , -0.83399999,  0.417     ,  0.417     , -0.83399999,\n",
       "        0.417     ,  0.417     , -0.83399999,  0.417     ,  0.417     ,\n",
       "       -0.83399999,  0.417     ,  0.417     , -0.83399999,  0.417     ,\n",
       "        0.417     , -0.83399999,  0.417     ,  0.417     , -0.83399999,\n",
       "        0.417     ,  0.417     , -0.83399999,  0.417     ,  0.417     ,\n",
       "       -0.83399999,  0.417     ,  0.417     , -0.83399999,  0.417     ,\n",
       "        0.417     , -0.83399999,  0.417     ,  0.417     , -0.83399999,\n",
       "        0.417     ,  0.417     , -0.83399999,  0.417     ,  0.417     ,\n",
       "       -0.83399999,  0.417     ,  0.417     , -0.83399999,  0.417     ,\n",
       "        0.417     , -0.83399999,  0.417     ,  0.417     , -0.83399999,\n",
       "        0.417     ,  0.417     , -0.83399999,  0.417     ,  0.417     ,\n",
       "       -0.83399999,  0.417     ,  0.417     , -0.83399999,  0.417     ,\n",
       "        0.417     , -0.83399999,  0.417     ,  0.417     , -0.83399999,\n",
       "        0.417     ,  0.417     , -0.83399999,  0.417     ,  0.417     ,\n",
       "       -0.83399999,  0.417     ,  0.417     , -0.83399999,  0.417     ,\n",
       "        0.417     ,  0.        ,  0.        ,  0.        ,  0.        ,\n",
       "        0.        ,  0.        ,  0.        ,  0.        ,  0.        ,\n",
       "        0.        ,  0.        ,  0.        ,  0.        ,  0.        ,\n",
       "        0.        ,  0.        ,  0.        ,  0.        ,  0.        ,\n",
       "        0.        ,  0.        ,  0.        ,  0.        ,  0.        ,\n",
       "        0.        ,  0.        ,  0.        ,  0.        ,  0.        ,\n",
       "        0.        ,  0.        ,  0.        ,  0.        ,  0.        ,\n",
       "        0.        ,  0.        ,  0.        ,  0.        ,  0.        ,\n",
       "        0.        ,  0.        ,  0.        ,  0.        ,  0.        ,\n",
       "        0.        ,  0.        ,  0.        ,  0.        ,  0.        ,\n",
       "        0.        ,  0.        ,  0.        ,  0.        ,  0.        ,\n",
       "        0.        ,  0.        ,  0.        ,  0.        ,  0.        ,\n",
       "        0.        ,  0.        ,  0.        ,  0.        ,  0.        ,\n",
       "        0.        ,  0.        ,  0.        ,  0.        ,  0.        ,\n",
       "        0.        ,  0.        ,  0.        ,  0.        ,  0.        ,\n",
       "        0.        ,  0.        ,  0.        ,  0.        ,  0.        ,\n",
       "        0.        ,  0.        ,  0.        ,  0.        ,  0.        ,\n",
       "        0.        ,  0.        ,  0.        ,  0.        ,  0.        ,\n",
       "        0.        ,  0.        ,  0.        ,  0.        ,  0.        ,\n",
       "        0.        ,  0.        ])"
      ]
     },
     "execution_count": 10,
     "metadata": {},
     "output_type": "execute_result"
    }
   ],
   "source": [
    "u.atoms.charges"
   ]
  },
  {
   "cell_type": "code",
   "execution_count": 3,
   "metadata": {},
   "outputs": [
    {
     "name": "stdout",
     "output_type": "stream",
     "text": [
      "<AtomGroup [<Atom 1: O of type O of resname R1, resid 1 and segid MOL1>, <Atom 2: H of type H of resname R1, resid 1 and segid MOL1>, <Atom 3: H of type H of resname R1, resid 1 and segid MOL1>, ..., <Atom 289: O of type O of resname R1, resid 97 and segid MOL1>, <Atom 290: H of type H of resname R1, resid 97 and segid MOL1>, <Atom 291: H of type H of resname R1, resid 97 and segid MOL1>]>\n"
     ]
    }
   ],
   "source": [
    "surf_ids = [\n",
    "    [291, 292, 293, 294, 295, 296, 297, 298, 299, 300, 301, 302, 303, 304, 305, 306],\n",
    "    [371, 372, 373, 374, 375, 376, 377, 378, 379, 380, 381, 382, 383, 384, 385, 386],\n",
    "]\n",
    "ag = u.select_atoms(\"resname R1\")\n",
    "print(ag)"
   ]
  },
  {
   "cell_type": "markdown",
   "metadata": {},
   "source": [
    "# serial"
   ]
  },
  {
   "cell_type": "code",
   "execution_count": null,
   "metadata": {},
   "outputs": [],
   "source": [
    "from intdielec.watanalysis.dielectric import InverseDielectricConstant as IDC"
   ]
  },
  {
   "cell_type": "code",
   "execution_count": null,
   "metadata": {},
   "outputs": [],
   "source": [
    "task_serial = IDC(\n",
    "    atomgroups=ag,\n",
    "    bin_edges=np.arange(0, 15.1, 0.1),\n",
    "    temperature=330,\n",
    "    img_plane=0.9,\n",
    "    surf_ids=surf_ids,\n",
    ")"
   ]
  },
  {
   "cell_type": "code",
   "execution_count": null,
   "metadata": {},
   "outputs": [],
   "source": [
    "import time"
   ]
  },
  {
   "cell_type": "code",
   "execution_count": null,
   "metadata": {},
   "outputs": [],
   "source": [
    "start_time = time.time()\n",
    "task_serial.run()\n",
    "end_time = time.time()"
   ]
  },
  {
   "cell_type": "code",
   "execution_count": null,
   "metadata": {},
   "outputs": [],
   "source": [
    "task_serial.n_frames"
   ]
  },
  {
   "cell_type": "code",
   "execution_count": null,
   "metadata": {},
   "outputs": [],
   "source": [
    "plt.plot(np.arange(0.0, 15.0, 0.1), task_serial.results.inveps)\n",
    "\n",
    "plt.show()"
   ]
  },
  {
   "cell_type": "code",
   "execution_count": null,
   "metadata": {},
   "outputs": [],
   "source": [
    "plt.plot(np.arange(0.0, 15.0, 0.1), task_serial.results.mM_lo)\n",
    "plt.plot(np.arange(0.0, 15.0, 0.1), task_serial.results.mM_hi)\n",
    "plt.show()"
   ]
  },
  {
   "cell_type": "code",
   "execution_count": null,
   "metadata": {},
   "outputs": [],
   "source": [
    "plt.plot(np.arange(0.0, 15.0, 0.1), task_serial.results.m_lo)\n",
    "plt.plot(np.arange(0.0, 15.0, 0.1), task_serial.results.m_hi)\n",
    "plt.show()"
   ]
  },
  {
   "cell_type": "markdown",
   "metadata": {
    "tags": []
   },
   "source": [
    "# My parallel code "
   ]
  },
  {
   "cell_type": "code",
   "execution_count": null,
   "metadata": {},
   "outputs": [],
   "source": [
    "from intdielec.watanalysis.dielectric import ParallelInverseDielectricConstant as PIDC"
   ]
  },
  {
   "cell_type": "code",
   "execution_count": null,
   "metadata": {},
   "outputs": [],
   "source": [
    "task_para = PIDC(\n",
    "    atomgroups=ag,\n",
    "    bin_edges=np.arange(0, 15.1, 0.1),\n",
    "    temperature=330,\n",
    "    img_plane=0.9,\n",
    "    surf_ids=surf_ids,\n",
    ")\n",
    "task_para.run(0, 1000, 1, 20)"
   ]
  },
  {
   "cell_type": "code",
   "execution_count": null,
   "metadata": {},
   "outputs": [],
   "source": [
    "dname = \"intdielec_out\"\n",
    "if not os.path.exists(dname):\n",
    "    os.makedirs(dname)\n",
    "np.save(os.path.join(dname, \"inveps.npy\"), task.results[\"inveps\"])\n",
    "np.save(os.path.join(dname, \"M2.npy\"), task.results[\"M2\"])\n",
    "np.save(os.path.join(dname, \"m.npy\"), task.results[\"m\"])\n",
    "np.save(os.path.join(dname, \"mM.npy\"), task.results[\"mM\"])\n",
    "np.save(os.path.join(dname, \"M.npy\"), task.results[\"M\"])"
   ]
  },
  {
   "cell_type": "markdown",
   "metadata": {},
   "source": [
    "# MAICoS"
   ]
  },
  {
   "cell_type": "code",
   "execution_count": 4,
   "metadata": {},
   "outputs": [
    {
     "name": "stderr",
     "output_type": "stream",
     "text": [
      "/opt/miniconda3/envs/leiden/lib/python3.9/site-packages/Bio/pairwise2.py:278: BiopythonDeprecationWarning: Bio.pairwise2 has been deprecated, and we intend to remove it in a future release of Biopython. As an alternative, please consider using Bio.Align.PairwiseAligner as a replacement, and contact the Biopython developers if you still need the Bio.pairwise2 module.\n",
      "  warnings.warn(\n"
     ]
    }
   ],
   "source": [
    "from intdielec.watanalysis.dielectric import TestInverseDielectricConstant as TIDC"
   ]
  },
  {
   "cell_type": "code",
   "execution_count": 5,
   "metadata": {},
   "outputs": [],
   "source": [
    "from intdielec.utils.mda import make_index_selection"
   ]
  },
  {
   "cell_type": "code",
   "execution_count": 6,
   "metadata": {},
   "outputs": [],
   "source": [
    "refgroup = u.select_atoms(make_index_selection(surf_ids[1]))"
   ]
  },
  {
   "cell_type": "code",
   "execution_count": 7,
   "metadata": {},
   "outputs": [],
   "source": [
    "task = TIDC(\n",
    "    atomgroups=ag,\n",
    "    surf_ids=surf_ids,\n",
    "    img_plane=0.9,\n",
    "    bin_width=0.1,\n",
    "    refgroup=None,\n",
    "    is_3d=True,\n",
    "    unwrap=False,\n",
    "    temperature=330,\n",
    "    output_prefix=\"eps\",\n",
    ")"
   ]
  },
  {
   "cell_type": "code",
   "execution_count": 8,
   "metadata": {},
   "outputs": [
    {
     "name": "stderr",
     "output_type": "stream",
     "text": [
      "/Users/jxzhu/workspace/software/maicos/src/maicos/core/base.py:228: UserWarning: Reader has no dt information, set to 1.0 ps\n",
      "  self.times[i] = ts.time\n",
      "/Users/jxzhu/workspace/software/mdanalysis/package/MDAnalysis/core/groups.py:440: DeprecationWarning: The 'pbc' kwarg has been deprecated and will be removed in version 3.0., please use 'wrap' instead\n",
      "  warnings.warn(\"The 'pbc' kwarg has been deprecated and will be \"\n",
      "Preparing error estimation.\n"
     ]
    },
    {
     "data": {
      "text/plain": [
       "<intdielec.watanalysis.dielectric.TestInverseDielectricConstant at 0x7fa8f991f400>"
      ]
     },
     "execution_count": 8,
     "metadata": {},
     "output_type": "execute_result"
    }
   ],
   "source": [
    "task.run()"
   ]
  },
  {
   "cell_type": "code",
   "execution_count": 9,
   "metadata": {},
   "outputs": [],
   "source": [
    "task.save()"
   ]
  },
  {
   "cell_type": "code",
   "execution_count": 10,
   "metadata": {},
   "outputs": [],
   "source": [
    "from toolbox.utils.utils import load_dict"
   ]
  },
  {
   "cell_type": "code",
   "execution_count": 11,
   "metadata": {},
   "outputs": [],
   "source": [
    "data = load_dict(\"eps_raw_data.pkl\")"
   ]
  },
  {
   "cell_type": "code",
   "execution_count": 12,
   "metadata": {},
   "outputs": [
    {
     "data": {
      "text/plain": [
       "30.799826"
      ]
     },
     "execution_count": 12,
     "metadata": {},
     "output_type": "execute_result"
    }
   ],
   "source": [
    "data[\"z_hi\"]"
   ]
  },
  {
   "cell_type": "code",
   "execution_count": 13,
   "metadata": {},
   "outputs": [
    {
     "data": {
      "text/plain": [
       "5.1321726"
      ]
     },
     "execution_count": 13,
     "metadata": {},
     "output_type": "execute_result"
    }
   ],
   "source": [
    "data[\"z_lo\"]"
   ]
  },
  {
   "cell_type": "code",
   "execution_count": 14,
   "metadata": {},
   "outputs": [
    {
     "data": {
      "text/plain": [
       "0.024953667"
      ]
     },
     "execution_count": 14,
     "metadata": {},
     "output_type": "execute_result"
    }
   ],
   "source": [
    "data[\"z_lo_std\"]"
   ]
  },
  {
   "cell_type": "code",
   "execution_count": 15,
   "metadata": {},
   "outputs": [
    {
     "data": {
      "text/plain": [
       "0.026094407"
      ]
     },
     "execution_count": 15,
     "metadata": {},
     "output_type": "execute_result"
    }
   ],
   "source": [
    "data[\"z_hi_std\"]"
   ]
  },
  {
   "cell_type": "code",
   "execution_count": null,
   "metadata": {},
   "outputs": [],
   "source": []
  },
  {
   "cell_type": "code",
   "execution_count": null,
   "metadata": {},
   "outputs": [],
   "source": [
    "import maicos"
   ]
  },
  {
   "cell_type": "code",
   "execution_count": null,
   "metadata": {},
   "outputs": [],
   "source": [
    "water = u.select_atoms(\"resname R1\")\n",
    "print(water)\n",
    "# Create the analysis object with the appropriate parameters.\n",
    "analysis_obj = maicos.DielectricPlanar(\n",
    "    water,\n",
    "    bin_width=0.2,\n",
    "    refgroup=water,\n",
    "    is_3d=True,\n",
    "    unwrap=False,\n",
    "    temperature=330,\n",
    "    sym=True,\n",
    ")\n",
    "analysis_obj.run(start=0, stop=1000, step=1)"
   ]
  },
  {
   "cell_type": "code",
   "execution_count": null,
   "metadata": {},
   "outputs": [],
   "source": [
    "analysis_obj.save()"
   ]
  },
  {
   "cell_type": "code",
   "execution_count": null,
   "metadata": {},
   "outputs": [],
   "source": [
    "_y = analysis_obj.results.eps_perp.flatten()\n",
    "y = (_y[: len(_y) // 2] - np.flip(_y)[: len(_y) // 2]) / 2"
   ]
  },
  {
   "cell_type": "code",
   "execution_count": null,
   "metadata": {},
   "outputs": [],
   "source": [
    "z = analysis_obj.results.bin_pos\n",
    "plt.plot(z[: len(_y) // 2], y)\n",
    "\n",
    "plt.show()"
   ]
  },
  {
   "cell_type": "code",
   "execution_count": null,
   "metadata": {},
   "outputs": [],
   "source": [
    "x = np.arange(0.0, 10.0, 0.2)\n",
    "y = np.load(\"intdielec_out/inveps.npy\")\n",
    "plt.plot(x[1:], y)\n",
    "\n",
    "plt.show()"
   ]
  },
  {
   "cell_type": "code",
   "execution_count": null,
   "metadata": {},
   "outputs": [],
   "source": [
    "fig, ax = plt.subplots()\n",
    "\n",
    "z = analysis_obj.results.bin_pos\n",
    "\n",
    "ax.plot(z, analysis_obj.results.eps_perp)\n",
    "ax.set_ylabel(r\"$\\varepsilon^{-1}_{\\perp} - 1$\")\n",
    "\n",
    "# # Only plot the actual physical system:\n",
    "# ax[0].set_xlim([-7, 7])\n",
    "# ax[1].set_xlim([-7, 7])\n",
    "\n",
    "# # Also plot the bulk values for reference\n",
    "# ax[0].axhline(1 / 71 - 1, color='black', linestyle='dashed')\n",
    "# ax[1].axhline(71 - 1, color='black', linestyle='dashed')\n",
    "\n",
    "fig.tight_layout()\n",
    "fig.show()"
   ]
  },
  {
   "cell_type": "code",
   "execution_count": null,
   "metadata": {},
   "outputs": [],
   "source": [
    "# topo = \"input_data/interface.psf\"\n",
    "\n",
    "fnames = glob.glob(\"**/dump.lammpstrj\", recursive=True)\n",
    "fnames.sort()\n",
    "\n",
    "for fname in fnames:\n",
    "    u = mda.Universe(topo, fname, topology_format=\"PSF\", format=\"LAMMPSDUMP\")\n",
    "    water = u.select_atoms(\"resname R1\")\n",
    "    # print(water)\n",
    "    # Create the analysis object with the appropriate parameters.\n",
    "    analysis_obj = maicos.DielectricPlanar(\n",
    "        water, bin_width=0.1, refgroup=water, is_3d=True, unwrap=False, temperature=330\n",
    "    )\n",
    "    analysis_obj.run(start=0, stop=1000, step=1)"
   ]
  },
  {
   "cell_type": "code",
   "execution_count": null,
   "metadata": {},
   "outputs": [],
   "source": []
  },
  {
   "cell_type": "code",
   "execution_count": null,
   "metadata": {},
   "outputs": [],
   "source": []
  },
  {
   "cell_type": "code",
   "execution_count": null,
   "metadata": {},
   "outputs": [],
   "source": []
  },
  {
   "cell_type": "code",
   "execution_count": null,
   "metadata": {},
   "outputs": [],
   "source": []
  },
  {
   "cell_type": "code",
   "execution_count": null,
   "metadata": {},
   "outputs": [],
   "source": []
  }
 ],
 "metadata": {
  "kernelspec": {
   "display_name": "leiden",
   "language": "python",
   "name": "python3"
  },
  "language_info": {
   "codemirror_mode": {
    "name": "ipython",
    "version": 3
   },
   "file_extension": ".py",
   "mimetype": "text/x-python",
   "name": "python",
   "nbconvert_exporter": "python",
   "pygments_lexer": "ipython3",
   "version": "3.9.16"
  }
 },
 "nbformat": 4,
 "nbformat_minor": 4
}
