{
 "cells": [
  {
   "cell_type": "code",
   "execution_count": 1,
   "id": "20e8d4c7-2bee-43df-af9e-8f672873f1b4",
   "metadata": {},
   "outputs": [],
   "source": [
    "import numpy as np"
   ]
  },
  {
   "cell_type": "code",
   "execution_count": 2,
   "id": "c80d8a1d-ba73-45ef-8eb8-4757559de71e",
   "metadata": {},
   "outputs": [
    {
     "name": "stderr",
     "output_type": "stream",
     "text": [
      "/opt/miniconda3/envs/leiden/lib/python3.9/site-packages/tqdm/auto.py:22: TqdmWarning: IProgress not found. Please update jupyter and ipywidgets. See https://ipywidgets.readthedocs.io/en/stable/user_install.html\n",
      "  from .autonotebook import tqdm as notebook_tqdm\n"
     ]
    }
   ],
   "source": [
    "from intdielec.workflow.orient_eps import OrientEps"
   ]
  },
  {
   "cell_type": "code",
   "execution_count": 3,
   "id": "e03596db-c590-4b21-9127-24a3d1336aa8",
   "metadata": {},
   "outputs": [],
   "source": [
    "task = OrientEps(work_dir=\".\", topo=\"interface.psf\", coord=\"test.lammpstrj\")"
   ]
  },
  {
   "cell_type": "code",
   "execution_count": 4,
   "id": "bbdc941b-b22d-4969-a377-8c6e9f0e2b41",
   "metadata": {},
   "outputs": [
    {
     "data": {
      "text/plain": [
       "<Universe with 387 atoms>"
      ]
     },
     "execution_count": 4,
     "metadata": {},
     "output_type": "execute_result"
    }
   ],
   "source": [
    "task.universe"
   ]
  },
  {
   "cell_type": "code",
   "execution_count": 5,
   "id": "3ccd6f26-0253-4eea-8457-2e9a7040c35e",
   "metadata": {},
   "outputs": [
    {
     "data": {
      "text/plain": [
       "10"
      ]
     },
     "execution_count": 5,
     "metadata": {},
     "output_type": "execute_result"
    }
   ],
   "source": [
    "task.n_frames"
   ]
  },
  {
   "cell_type": "code",
   "execution_count": 6,
   "id": "af5782d8-1234-4704-beb3-33efea550af3",
   "metadata": {},
   "outputs": [],
   "source": [
    "surf_ids = np.array([np.arange(292, 308), np.arange(372, 388)])"
   ]
  },
  {
   "cell_type": "code",
   "execution_count": 7,
   "id": "b00343b5-c060-4056-b564-fa1770b4cf3e",
   "metadata": {},
   "outputs": [
    {
     "name": "stderr",
     "output_type": "stream",
     "text": [
      "/opt/miniconda3/envs/leiden/lib/python3.9/multiprocessing/reduction.py:51: UserWarning: Reader has no dt information, set to 1.0 ps\n",
      "  cls(buf, protocol).dump(obj)\n",
      "/Users/jxzhu/workspace/software/m_MDAnalysis/package/MDAnalysis/analysis/base.py:438: UserWarning: Reader has no dt information, set to 1.0 ps\n",
      "  self.times[i] = ts.time\n",
      "/Users/jxzhu/workspace/software/m_MDAnalysis/package/MDAnalysis/analysis/base.py:438: UserWarning: Reader has no dt information, set to 1.0 ps\n",
      "  self.times[i] = ts.time\n",
      "/Users/jxzhu/workspace/software/m_MDAnalysis/package/MDAnalysis/analysis/base.py:438: UserWarning: Reader has no dt information, set to 1.0 ps\n",
      "  self.times[i] = ts.time\n",
      "/Users/jxzhu/workspace/software/m_MDAnalysis/package/MDAnalysis/analysis/base.py:438: UserWarning: Reader has no dt information, set to 1.0 ps\n",
      "  self.times[i] = ts.time\n",
      "/Users/jxzhu/workspace/software/m_MDAnalysis/package/MDAnalysis/analysis/base.py:438: UserWarning: Reader has no dt information, set to 1.0 ps\n",
      "  self.times[i] = ts.time\n",
      "/Users/jxzhu/workspace/software/m_MDAnalysis/package/MDAnalysis/analysis/base.py:438: UserWarning: Reader has no dt information, set to 1.0 ps\n",
      "  self.times[i] = ts.time\n",
      "/Users/jxzhu/workspace/software/m_MDAnalysis/package/MDAnalysis/analysis/base.py:438: UserWarning: Reader has no dt information, set to 1.0 ps\n",
      "  self.times[i] = ts.time\n",
      "/Users/jxzhu/workspace/software/m_MDAnalysis/package/MDAnalysis/analysis/base.py:438: UserWarning: Reader has no dt information, set to 1.0 ps\n",
      "  self.times[i] = ts.time\n",
      "/Users/jxzhu/workspace/software/m_MDAnalysis/package/MDAnalysis/analysis/base.py:438: UserWarning: Reader has no dt information, set to 1.0 ps\n",
      "  self.times[i] = ts.time\n",
      "/Users/jxzhu/workspace/software/m_MDAnalysis/package/MDAnalysis/analysis/base.py:438: UserWarning: Reader has no dt information, set to 1.0 ps\n",
      "  self.times[i] = ts.time\n"
     ]
    }
   ],
   "source": [
    "task.run(bins=np.arange(5), surf_ids=surf_ids)"
   ]
  },
  {
   "cell_type": "code",
   "execution_count": 8,
   "id": "e7dd84c8-9f36-456b-a981-dee2f17d16d9",
   "metadata": {},
   "outputs": [],
   "source": [
    "import h5py"
   ]
  },
  {
   "cell_type": "code",
   "execution_count": 9,
   "id": "e0786365-ccf0-437d-b785-7d5ab98174b5",
   "metadata": {},
   "outputs": [
    {
     "name": "stdout",
     "output_type": "stream",
     "text": [
      "<HDF5 file \"eps_data.hdf5\" (mode r)>\n",
      "00\n",
      "01\n",
      "<HDF5 group \"/00\" (6 members)>\n",
      "M\n",
      "5.925663986877427\n",
      "M2\n",
      "35.2475466827284\n",
      "bins\n",
      "[0 1 2 3 4]\n",
      "inveps\n",
      "[1.         1.         0.71237389 0.17357373]\n",
      "m\n",
      "[ 0.          0.         -0.00027608  0.00292033]\n",
      "mM\n",
      "[ 0.          0.         -0.00158228  0.01745917]\n"
     ]
    }
   ],
   "source": [
    "with h5py.File(\"eps_data.hdf5\", \"r\") as f:\n",
    "    print(f)\n",
    "    for n in f:\n",
    "        print(n)\n",
    "    print(f[\"00\"])\n",
    "    for data in f[\"00\"]:\n",
    "        print(data)\n",
    "        print(f[\"00\"][data][...])\n",
    "    # print(f[-1])"
   ]
  },
  {
   "cell_type": "code",
   "execution_count": null,
   "id": "338b63fd-48fa-42d4-b035-fcab4ea1f261",
   "metadata": {},
   "outputs": [],
   "source": [
    "import MDAnalysis as mda\n",
    "fname_topo = \"interface.psf\"\n",
    "fname_coord = \"test.lammpstrj\"\n",
    "u = mda.Universe(fname_topo, fname_coord, topology_format=\"PSF\", format=\"LAMMPSDUMP\")\n",
    "u._trajectory.n_frames"
   ]
  },
  {
   "cell_type": "code",
   "execution_count": null,
   "id": "d2921e94-99ef-42bd-8f41-bb9f30b6cb02",
   "metadata": {},
   "outputs": [],
   "source": []
  }
 ],
 "metadata": {
  "kernelspec": {
   "display_name": "leiden",
   "language": "python",
   "name": "leiden"
  },
  "language_info": {
   "codemirror_mode": {
    "name": "ipython",
    "version": 3
   },
   "file_extension": ".py",
   "mimetype": "text/x-python",
   "name": "python",
   "nbconvert_exporter": "python",
   "pygments_lexer": "ipython3",
   "version": "3.9.16"
  }
 },
 "nbformat": 4,
 "nbformat_minor": 5
}
