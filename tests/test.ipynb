{
 "cells": [
  {
   "cell_type": "code",
   "execution_count": 1,
   "metadata": {},
   "outputs": [],
   "source": [
    "from collections import deque\n",
    "import numpy as np"
   ]
  },
  {
   "cell_type": "code",
   "execution_count": 9,
   "metadata": {},
   "outputs": [],
   "source": [
    "raw_data = []\n",
    "for ii in range(5):\n",
    "    raw_data.append(deque(maxlen=10))"
   ]
  },
  {
   "cell_type": "code",
   "execution_count": 10,
   "metadata": {},
   "outputs": [
    {
     "name": "stdout",
     "output_type": "stream",
     "text": [
      "[deque([], maxlen=10), deque([], maxlen=10), deque([], maxlen=10), deque([], maxlen=10), deque([], maxlen=10)]\n",
      "[deque([array([0, 0, 0])], maxlen=10), deque([], maxlen=10), deque([], maxlen=10), deque([], maxlen=10), deque([], maxlen=10)]\n",
      "[deque([array([0, 0, 0]), array([1, 1, 1])], maxlen=10), deque([], maxlen=10), deque([], maxlen=10), deque([], maxlen=10), deque([], maxlen=10)]\n",
      "[deque([array([0, 0, 0]), array([1, 1, 1]), array([2, 2, 2])], maxlen=10), deque([], maxlen=10), deque([], maxlen=10), deque([], maxlen=10), deque([], maxlen=10)]\n",
      "[deque([array([0, 0, 0]), array([1, 1, 1]), array([2, 2, 2]), array([3, 3, 3])], maxlen=10), deque([], maxlen=10), deque([], maxlen=10), deque([], maxlen=10), deque([], maxlen=10)]\n",
      "[deque([array([0, 0, 0]), array([1, 1, 1]), array([2, 2, 2]), array([3, 3, 3]), array([4, 4, 4])], maxlen=10), deque([], maxlen=10), deque([], maxlen=10), deque([], maxlen=10), deque([], maxlen=10)]\n",
      "[deque([array([0, 0, 0]), array([1, 1, 1]), array([2, 2, 2]), array([3, 3, 3]), array([4, 4, 4]), array([5, 5, 5])], maxlen=10), deque([], maxlen=10), deque([], maxlen=10), deque([], maxlen=10), deque([], maxlen=10)]\n",
      "[deque([array([0, 0, 0]), array([1, 1, 1]), array([2, 2, 2]), array([3, 3, 3]), array([4, 4, 4]), array([5, 5, 5]), array([6, 6, 6])], maxlen=10), deque([], maxlen=10), deque([], maxlen=10), deque([], maxlen=10), deque([], maxlen=10)]\n",
      "[deque([array([0, 0, 0]), array([1, 1, 1]), array([2, 2, 2]), array([3, 3, 3]), array([4, 4, 4]), array([5, 5, 5]), array([6, 6, 6]), array([7, 7, 7])], maxlen=10), deque([], maxlen=10), deque([], maxlen=10), deque([], maxlen=10), deque([], maxlen=10)]\n",
      "[deque([array([0, 0, 0]), array([1, 1, 1]), array([2, 2, 2]), array([3, 3, 3]), array([4, 4, 4]), array([5, 5, 5]), array([6, 6, 6]), array([7, 7, 7]), array([8, 8, 8])], maxlen=10), deque([], maxlen=10), deque([], maxlen=10), deque([], maxlen=10), deque([], maxlen=10)]\n",
      "[deque([array([0, 0, 0]), array([1, 1, 1]), array([2, 2, 2]), array([3, 3, 3]), array([4, 4, 4]), array([5, 5, 5]), array([6, 6, 6]), array([7, 7, 7]), array([8, 8, 8]), array([9, 9, 9])], maxlen=10), deque([], maxlen=10), deque([], maxlen=10), deque([], maxlen=10), deque([], maxlen=10)]\n",
      "[deque([array([1, 1, 1]), array([2, 2, 2]), array([3, 3, 3]), array([4, 4, 4]), array([5, 5, 5]), array([6, 6, 6]), array([7, 7, 7]), array([8, 8, 8]), array([9, 9, 9]), array([10, 10, 10])], maxlen=10), deque([], maxlen=10), deque([], maxlen=10), deque([], maxlen=10), deque([], maxlen=10)]\n",
      "[deque([array([2, 2, 2]), array([3, 3, 3]), array([4, 4, 4]), array([5, 5, 5]), array([6, 6, 6]), array([7, 7, 7]), array([8, 8, 8]), array([9, 9, 9]), array([10, 10, 10]), array([11, 11, 11])], maxlen=10), deque([], maxlen=10), deque([], maxlen=10), deque([], maxlen=10), deque([], maxlen=10)]\n",
      "[deque([array([3, 3, 3]), array([4, 4, 4]), array([5, 5, 5]), array([6, 6, 6]), array([7, 7, 7]), array([8, 8, 8]), array([9, 9, 9]), array([10, 10, 10]), array([11, 11, 11]), array([12, 12, 12])], maxlen=10), deque([], maxlen=10), deque([], maxlen=10), deque([], maxlen=10), deque([], maxlen=10)]\n",
      "[deque([array([4, 4, 4]), array([5, 5, 5]), array([6, 6, 6]), array([7, 7, 7]), array([8, 8, 8]), array([9, 9, 9]), array([10, 10, 10]), array([11, 11, 11]), array([12, 12, 12]), array([13, 13, 13])], maxlen=10), deque([], maxlen=10), deque([], maxlen=10), deque([], maxlen=10), deque([], maxlen=10)]\n",
      "[deque([array([5, 5, 5]), array([6, 6, 6]), array([7, 7, 7]), array([8, 8, 8]), array([9, 9, 9]), array([10, 10, 10]), array([11, 11, 11]), array([12, 12, 12]), array([13, 13, 13]), array([14, 14, 14])], maxlen=10), deque([], maxlen=10), deque([], maxlen=10), deque([], maxlen=10), deque([], maxlen=10)]\n",
      "[deque([array([6, 6, 6]), array([7, 7, 7]), array([8, 8, 8]), array([9, 9, 9]), array([10, 10, 10]), array([11, 11, 11]), array([12, 12, 12]), array([13, 13, 13]), array([14, 14, 14]), array([15, 15, 15])], maxlen=10), deque([], maxlen=10), deque([], maxlen=10), deque([], maxlen=10), deque([], maxlen=10)]\n",
      "[deque([array([7, 7, 7]), array([8, 8, 8]), array([9, 9, 9]), array([10, 10, 10]), array([11, 11, 11]), array([12, 12, 12]), array([13, 13, 13]), array([14, 14, 14]), array([15, 15, 15]), array([16, 16, 16])], maxlen=10), deque([], maxlen=10), deque([], maxlen=10), deque([], maxlen=10), deque([], maxlen=10)]\n",
      "[deque([array([8, 8, 8]), array([9, 9, 9]), array([10, 10, 10]), array([11, 11, 11]), array([12, 12, 12]), array([13, 13, 13]), array([14, 14, 14]), array([15, 15, 15]), array([16, 16, 16]), array([17, 17, 17])], maxlen=10), deque([], maxlen=10), deque([], maxlen=10), deque([], maxlen=10), deque([], maxlen=10)]\n",
      "[deque([array([9, 9, 9]), array([10, 10, 10]), array([11, 11, 11]), array([12, 12, 12]), array([13, 13, 13]), array([14, 14, 14]), array([15, 15, 15]), array([16, 16, 16]), array([17, 17, 17]), array([18, 18, 18])], maxlen=10), deque([], maxlen=10), deque([], maxlen=10), deque([], maxlen=10), deque([], maxlen=10)]\n",
      "[deque([array([10, 10, 10]), array([11, 11, 11]), array([12, 12, 12]), array([13, 13, 13]), array([14, 14, 14]), array([15, 15, 15]), array([16, 16, 16]), array([17, 17, 17]), array([18, 18, 18]), array([19, 19, 19])], maxlen=10), deque([], maxlen=10), deque([], maxlen=10), deque([], maxlen=10), deque([], maxlen=10)]\n"
     ]
    }
   ],
   "source": [
    "print(raw_data)\n",
    "\n",
    "for ii in range(20):\n",
    "    raw_data[0].append(np.full(3, ii))\n",
    "    print(raw_data)"
   ]
  },
  {
   "cell_type": "code",
   "execution_count": null,
   "metadata": {},
   "outputs": [],
   "source": [
    "mask_1 = np.array([True, False, True])\n",
    "mask_2 = np.array([True, False, False])"
   ]
  }
 ],
 "metadata": {
  "kernelspec": {
   "display_name": "leiden",
   "language": "python",
   "name": "python3"
  },
  "language_info": {
   "codemirror_mode": {
    "name": "ipython",
    "version": 3
   },
   "file_extension": ".py",
   "mimetype": "text/x-python",
   "name": "python",
   "nbconvert_exporter": "python",
   "pygments_lexer": "ipython3",
   "version": "3.9.0"
  },
  "orig_nbformat": 4
 },
 "nbformat": 4,
 "nbformat_minor": 2
}
