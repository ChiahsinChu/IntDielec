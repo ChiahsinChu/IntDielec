{
 "cells": [
  {
   "cell_type": "code",
   "execution_count": 1,
   "id": "a716be1e-5221-4c6e-93dc-a1244b5a3c56",
   "metadata": {},
   "outputs": [],
   "source": [
    "import h5py\n",
    "import pandas as pd"
   ]
  },
  {
   "cell_type": "markdown",
   "id": "ad624de7-629a-4a82-9e76-cd5a3a1722a0",
   "metadata": {},
   "source": [
    "[ref-overview](https://thepythonyouneed.com/how-to-store-data-efficiently-in-python)\n",
    "\n",
    "[ref-h5py](https://docs.h5py.org/en/stable/index.html)"
   ]
  },
  {
   "cell_type": "code",
   "execution_count": null,
   "id": "346465bb-a348-43d3-b644-714f2d1fd1c6",
   "metadata": {},
   "outputs": [],
   "source": [
    "with h5py.File('test.hdf5','a') as f:\n",
    "    dset = f.create_dataset(\"mydataset\", (100,), dtype='i')"
   ]
  },
  {
   "cell_type": "code",
   "execution_count": null,
   "id": "627a1b21-7ca7-45a8-bcb4-31c88b52f826",
   "metadata": {},
   "outputs": [],
   "source": [
    "# example dataframe\n",
    "df = pd.DataFrame({\"col1\" : range(0,10)})\n",
    "# save the dataframe as hdf5\n",
    "df.to_hdf('test.h5', key='df', mode='a')"
   ]
  },
  {
   "cell_type": "code",
   "execution_count": 2,
   "id": "d1cddbc3-34bd-422d-a2ec-b3c30b4658ed",
   "metadata": {},
   "outputs": [
    {
     "name": "stderr",
     "output_type": "stream",
     "text": [
      "/data/home/jxzhu/.conda/envs/gnn/lib/python3.9/site-packages/tables/path.py:137: NaturalNameWarning: object name is not a valid Python identifier: '0'; it does not match the pattern ``^[a-zA-Z_][a-zA-Z0-9_]*$``; you will not be able to use natural naming to access this object; using ``getattr()`` will still work, though\n",
      "  check_attribute_name(name)\n",
      "/data/home/jxzhu/.conda/envs/gnn/lib/python3.9/site-packages/tables/path.py:137: NaturalNameWarning: object name is not a valid Python identifier: '1'; it does not match the pattern ``^[a-zA-Z_][a-zA-Z0-9_]*$``; you will not be able to use natural naming to access this object; using ``getattr()`` will still work, though\n",
      "  check_attribute_name(name)\n",
      "/data/home/jxzhu/.conda/envs/gnn/lib/python3.9/site-packages/tables/path.py:137: NaturalNameWarning: object name is not a valid Python identifier: '2'; it does not match the pattern ``^[a-zA-Z_][a-zA-Z0-9_]*$``; you will not be able to use natural naming to access this object; using ``getattr()`` will still work, though\n",
      "  check_attribute_name(name)\n",
      "/data/home/jxzhu/.conda/envs/gnn/lib/python3.9/site-packages/tables/path.py:137: NaturalNameWarning: object name is not a valid Python identifier: '3'; it does not match the pattern ``^[a-zA-Z_][a-zA-Z0-9_]*$``; you will not be able to use natural naming to access this object; using ``getattr()`` will still work, though\n",
      "  check_attribute_name(name)\n",
      "/data/home/jxzhu/.conda/envs/gnn/lib/python3.9/site-packages/tables/path.py:137: NaturalNameWarning: object name is not a valid Python identifier: '4'; it does not match the pattern ``^[a-zA-Z_][a-zA-Z0-9_]*$``; you will not be able to use natural naming to access this object; using ``getattr()`` will still work, though\n",
      "  check_attribute_name(name)\n",
      "/data/home/jxzhu/.conda/envs/gnn/lib/python3.9/site-packages/tables/path.py:137: NaturalNameWarning: object name is not a valid Python identifier: '5'; it does not match the pattern ``^[a-zA-Z_][a-zA-Z0-9_]*$``; you will not be able to use natural naming to access this object; using ``getattr()`` will still work, though\n",
      "  check_attribute_name(name)\n",
      "/data/home/jxzhu/.conda/envs/gnn/lib/python3.9/site-packages/tables/path.py:137: NaturalNameWarning: object name is not a valid Python identifier: '6'; it does not match the pattern ``^[a-zA-Z_][a-zA-Z0-9_]*$``; you will not be able to use natural naming to access this object; using ``getattr()`` will still work, though\n",
      "  check_attribute_name(name)\n",
      "/data/home/jxzhu/.conda/envs/gnn/lib/python3.9/site-packages/tables/path.py:137: NaturalNameWarning: object name is not a valid Python identifier: '7'; it does not match the pattern ``^[a-zA-Z_][a-zA-Z0-9_]*$``; you will not be able to use natural naming to access this object; using ``getattr()`` will still work, though\n",
      "  check_attribute_name(name)\n",
      "/data/home/jxzhu/.conda/envs/gnn/lib/python3.9/site-packages/tables/path.py:137: NaturalNameWarning: object name is not a valid Python identifier: '8'; it does not match the pattern ``^[a-zA-Z_][a-zA-Z0-9_]*$``; you will not be able to use natural naming to access this object; using ``getattr()`` will still work, though\n",
      "  check_attribute_name(name)\n",
      "/data/home/jxzhu/.conda/envs/gnn/lib/python3.9/site-packages/tables/path.py:137: NaturalNameWarning: object name is not a valid Python identifier: '9'; it does not match the pattern ``^[a-zA-Z_][a-zA-Z0-9_]*$``; you will not be able to use natural naming to access this object; using ``getattr()`` will still work, though\n",
      "  check_attribute_name(name)\n"
     ]
    }
   ],
   "source": [
    "for ii in range(10):\n",
    "    # example dataframe\n",
    "    df = pd.DataFrame({\"col1\" : range(0, 10)})\n",
    "    # save the dataframe as hdf5\n",
    "    df.to_hdf('test.h5', key=str(ii), mode='a', append=True)"
   ]
  },
  {
   "cell_type": "code",
   "execution_count": 4,
   "id": "865b6350-8e26-470e-a88a-670b36db8675",
   "metadata": {},
   "outputs": [],
   "source": [
    "# read the dataframe from a hdf5 format\n",
    "out = pd.read_hdf(\"test.h5\", \"1\")"
   ]
  },
  {
   "cell_type": "code",
   "execution_count": 2,
   "id": "d25183f2-3974-4af4-868a-2afb5341487f",
   "metadata": {},
   "outputs": [],
   "source": [
    "from intdielec.io.template import cp2k_default_input"
   ]
  },
  {
   "cell_type": "code",
   "execution_count": 3,
   "id": "a868b0fb-3b59-4aab-9602-fc278b59e343",
   "metadata": {},
   "outputs": [
    {
     "data": {
      "text/plain": [
       "dict_keys(['energy', 'geo_opt', 'bomd', 'sgcpmd'])"
      ]
     },
     "execution_count": 3,
     "metadata": {},
     "output_type": "execute_result"
    }
   ],
   "source": [
    "cp2k_default_input.keys()"
   ]
  },
  {
   "cell_type": "code",
   "execution_count": 4,
   "id": "01a59f49-9888-4988-84c7-e1327702b8a4",
   "metadata": {},
   "outputs": [
    {
     "data": {
      "text/plain": [
       "{'FORCE_EVAL': {'METHOD': 'QS',\n",
       "  'STRESS_TENSOR': 'ANALYTICAL',\n",
       "  'DFT': {'BASIS_SET_FILE_NAME': ['BASIS_MOLOPT',\n",
       "    'BASIS_ADMM',\n",
       "    'BASIS_ADMM_MOLOPT',\n",
       "    'BASIS_MOLOPT-HSE06'],\n",
       "   'POTENTIAL_FILE_NAME': 'GTH_POTENTIALS',\n",
       "   'MGRID': {'CUTOFF': 400},\n",
       "   'QS': {'EPS_DEFAULT': 1e-13},\n",
       "   'SCF': {'SCF_GUESS': 'RESTART',\n",
       "    'EPS_SCF': 1e-06,\n",
       "    'MAX_SCF': 500,\n",
       "    'OT': {'_': '.FALSE.'},\n",
       "    'ADDED_MOS': 500,\n",
       "    'CHOLESKY': 'INVERSE',\n",
       "    'SMEAR': {'_': 'ON',\n",
       "     'METHOD': 'FERMI_DIRAC',\n",
       "     'ELECTRONIC_TEMPERATURE': 300},\n",
       "    'DIAGONALIZATION': {'ALGORITHM': 'STANDARD'},\n",
       "    'MIXING': {'METHOD': 'BROYDEN_MIXING',\n",
       "     'ALPHA': 0.3,\n",
       "     'BETA': 1.5,\n",
       "     'NBROYDEN': 8}},\n",
       "   'XC': {'XC_FUNCTIONAL': {'_': 'PBE'},\n",
       "    'vdW_POTENTIAL': {'DISPERSION_FUNCTIONAL': 'PAIR_POTENTIAL',\n",
       "     'PAIR_POTENTIAL': {'TYPE': 'DFTD3',\n",
       "      'PARAMETER_FILE_NAME': 'dftd3.dat',\n",
       "      'REFERENCE_FUNCTIONAL': 'PBE'}}},\n",
       "   'PRINT': {'MOMENTS': {'PERIODIC': '.FALSE.'}}},\n",
       "  'SUBSYS': {'CELL': {'A': '0. 0. 0.', 'B': '0. 0. 0.', 'C': '0. 0. 0.'},\n",
       "   'TOPOLOGY': {'COORD_FILE_FORMAT': 'XYZ', 'COORD_FILE_NAME': 'coord.xyz'},\n",
       "   'KIND': [{'_': 'O',\n",
       "     'POTENTIAL': 'GTH-PBE-q6',\n",
       "     'BASIS_SET': 'DZVP-MOLOPT-SR-GTH'},\n",
       "    {'_': 'H', 'POTENTIAL': 'GTH-PBE-q1', 'BASIS_SET': 'DZVP-MOLOPT-SR-GTH'},\n",
       "    {'_': 'Pt',\n",
       "     'POTENTIAL': 'GTH-PBE-q10',\n",
       "     'BASIS_SET': 'DZVP-A5-Q10-323-MOL-T1-DERIVED_SET-1'},\n",
       "    {'_': 'Ag', 'POTENTIAL': 'GTH-PBE-q11', 'BASIS_SET': 'DZVP-MOLOPT-SR-GTH'},\n",
       "    {'_': 'Na', 'POTENTIAL': 'GTH-PBE-q9', 'BASIS_SET': 'DZVP-MOLOPT-SR-GTH'},\n",
       "    {'_': 'K', 'POTENTIAL': 'GTH-PBE-q9', 'BASIS_SET': 'DZVP-MOLOPT-SR-GTH'},\n",
       "    {'_': 'Li', 'POTENTIAL': 'GTH-PBE-q3', 'BASIS_SET': 'DZVP-MOLOPT-SR-GTH'},\n",
       "    {'_': 'C', 'POTENTIAL': 'GTH-PBE-q4', 'BASIS_SET': 'DZVP-MOLOPT-SR-GTH'},\n",
       "    {'_': 'N', 'POTENTIAL': 'GTH-PBE-q5', 'BASIS_SET': 'DZVP-MOLOPT-SR-GTH'},\n",
       "    {'_': 'Cl', 'POTENTIAL': 'GTH-PBE-q7', 'BASIS_SET': 'DZVP-MOLOPT-SR-GTH'},\n",
       "    {'_': 'F', 'POTENTIAL': 'GTH-PBE-q7', 'BASIS_SET': 'DZVP-MOLOPT-SR-GTH'}]},\n",
       "  'PRINT': {'FORCES': {'_': 'ON'}, 'STRESS_TENSOR': {'_': 'ON'}}},\n",
       " 'GLOBAL': {'PROJECT': 'cp2k'}}"
      ]
     },
     "execution_count": 4,
     "metadata": {},
     "output_type": "execute_result"
    }
   ],
   "source": [
    "cp2k_default_input[\"energy\"]"
   ]
  },
  {
   "cell_type": "code",
   "execution_count": 6,
   "id": "b9b5f53d-11c1-4c19-b47c-461693a05293",
   "metadata": {},
   "outputs": [
    {
     "data": {
      "text/plain": [
       "{'FORCE_EVAL': {'METHOD': 'QS',\n",
       "  'STRESS_TENSOR': 'ANALYTICAL',\n",
       "  'DFT': {'BASIS_SET_FILE_NAME': ['BASIS_MOLOPT',\n",
       "    'BASIS_ADMM',\n",
       "    'BASIS_ADMM_MOLOPT',\n",
       "    'BASIS_MOLOPT-HSE06'],\n",
       "   'POTENTIAL_FILE_NAME': 'GTH_POTENTIALS',\n",
       "   'MGRID': {'CUTOFF': 400},\n",
       "   'QS': {'EPS_DEFAULT': 1e-13},\n",
       "   'SCF': {'SCF_GUESS': 'RESTART',\n",
       "    'EPS_SCF': 1e-06,\n",
       "    'MAX_SCF': 500,\n",
       "    'OT': {'_': '.FALSE.'},\n",
       "    'ADDED_MOS': 500,\n",
       "    'CHOLESKY': 'INVERSE',\n",
       "    'SMEAR': {'_': 'ON',\n",
       "     'METHOD': 'FERMI_DIRAC',\n",
       "     'ELECTRONIC_TEMPERATURE': 300},\n",
       "    'DIAGONALIZATION': {'ALGORITHM': 'STANDARD'},\n",
       "    'MIXING': {'METHOD': 'BROYDEN_MIXING',\n",
       "     'ALPHA': 0.3,\n",
       "     'BETA': 1.5,\n",
       "     'NBROYDEN': 8}},\n",
       "   'XC': {'XC_FUNCTIONAL': {'_': 'PBE'},\n",
       "    'vdW_POTENTIAL': {'DISPERSION_FUNCTIONAL': 'PAIR_POTENTIAL',\n",
       "     'PAIR_POTENTIAL': {'TYPE': 'DFTD3',\n",
       "      'PARAMETER_FILE_NAME': 'dftd3.dat',\n",
       "      'REFERENCE_FUNCTIONAL': 'PBE'}}},\n",
       "   'PRINT': {'MOMENTS': {'PERIODIC': '.FALSE.'}}},\n",
       "  'SUBSYS': {'CELL': {'A': '0. 0. 0.', 'B': '0. 0. 0.', 'C': '0. 0. 0.'},\n",
       "   'TOPOLOGY': {'COORD_FILE_FORMAT': 'XYZ', 'COORD_FILE_NAME': 'coord.xyz'},\n",
       "   'KIND': [{'_': 'O',\n",
       "     'POTENTIAL': 'GTH-PBE-q6',\n",
       "     'BASIS_SET': 'DZVP-MOLOPT-SR-GTH'},\n",
       "    {'_': 'H', 'POTENTIAL': 'GTH-PBE-q1', 'BASIS_SET': 'DZVP-MOLOPT-SR-GTH'},\n",
       "    {'_': 'Pt',\n",
       "     'POTENTIAL': 'GTH-PBE-q10',\n",
       "     'BASIS_SET': 'DZVP-A5-Q10-323-MOL-T1-DERIVED_SET-1'},\n",
       "    {'_': 'Ag', 'POTENTIAL': 'GTH-PBE-q11', 'BASIS_SET': 'DZVP-MOLOPT-SR-GTH'},\n",
       "    {'_': 'Na', 'POTENTIAL': 'GTH-PBE-q9', 'BASIS_SET': 'DZVP-MOLOPT-SR-GTH'},\n",
       "    {'_': 'K', 'POTENTIAL': 'GTH-PBE-q9', 'BASIS_SET': 'DZVP-MOLOPT-SR-GTH'},\n",
       "    {'_': 'Li', 'POTENTIAL': 'GTH-PBE-q3', 'BASIS_SET': 'DZVP-MOLOPT-SR-GTH'},\n",
       "    {'_': 'C', 'POTENTIAL': 'GTH-PBE-q4', 'BASIS_SET': 'DZVP-MOLOPT-SR-GTH'},\n",
       "    {'_': 'N', 'POTENTIAL': 'GTH-PBE-q5', 'BASIS_SET': 'DZVP-MOLOPT-SR-GTH'},\n",
       "    {'_': 'Cl', 'POTENTIAL': 'GTH-PBE-q7', 'BASIS_SET': 'DZVP-MOLOPT-SR-GTH'},\n",
       "    {'_': 'F', 'POTENTIAL': 'GTH-PBE-q7', 'BASIS_SET': 'DZVP-MOLOPT-SR-GTH'}]},\n",
       "  'PRINT': {'FORCES': {'_': 'ON'}, 'STRESS_TENSOR': {'_': 'ON'}}},\n",
       " 'GLOBAL': {'PROJECT': 'cp2k', 'RUN_TYPE': 'GEO_OPT'},\n",
       " 'MOTION': {'GEO_OPT': {'TYPE': 'minimization',\n",
       "   'OPTIMIZER': 'BFGS',\n",
       "   'MAX_ITER': 200,\n",
       "   'MAX_FORCE': 4.5e-05},\n",
       "  'PRINT': {'TRAJECTORY': {},\n",
       "   'VELOCITIES': {},\n",
       "   'FORCES': {'_': 'ON'},\n",
       "   'RESTART_HISTORY': {},\n",
       "   'RESTART': {'BACKUP_COPIES': 3}}}}"
      ]
     },
     "execution_count": 6,
     "metadata": {},
     "output_type": "execute_result"
    }
   ],
   "source": [
    "cp2k_default_input[\"geo_opt\"]"
   ]
  },
  {
   "cell_type": "code",
   "execution_count": 7,
   "id": "05c2f69e-48f0-4a4b-8d39-7144bcb202d1",
   "metadata": {},
   "outputs": [
    {
     "data": {
      "text/plain": [
       "{'FORCE_EVAL': {'METHOD': 'QS',\n",
       "  'STRESS_TENSOR': 'ANALYTICAL',\n",
       "  'DFT': {'BASIS_SET_FILE_NAME': ['BASIS_MOLOPT',\n",
       "    'BASIS_ADMM',\n",
       "    'BASIS_ADMM_MOLOPT',\n",
       "    'BASIS_MOLOPT-HSE06'],\n",
       "   'POTENTIAL_FILE_NAME': 'GTH_POTENTIALS',\n",
       "   'MGRID': {'CUTOFF': 400},\n",
       "   'QS': {'EPS_DEFAULT': 1e-13},\n",
       "   'SCF': {'SCF_GUESS': 'RESTART',\n",
       "    'EPS_SCF': 1e-06,\n",
       "    'MAX_SCF': 500,\n",
       "    'OT': {'_': '.FALSE.'},\n",
       "    'ADDED_MOS': 500,\n",
       "    'CHOLESKY': 'INVERSE',\n",
       "    'SMEAR': {'_': 'ON',\n",
       "     'METHOD': 'FERMI_DIRAC',\n",
       "     'ELECTRONIC_TEMPERATURE': 300},\n",
       "    'DIAGONALIZATION': {'ALGORITHM': 'STANDARD'},\n",
       "    'MIXING': {'METHOD': 'BROYDEN_MIXING',\n",
       "     'ALPHA': 0.3,\n",
       "     'BETA': 1.5,\n",
       "     'NBROYDEN': 8}},\n",
       "   'XC': {'XC_FUNCTIONAL': {'_': 'PBE'},\n",
       "    'vdW_POTENTIAL': {'DISPERSION_FUNCTIONAL': 'PAIR_POTENTIAL',\n",
       "     'PAIR_POTENTIAL': {'TYPE': 'DFTD3',\n",
       "      'PARAMETER_FILE_NAME': 'dftd3.dat',\n",
       "      'REFERENCE_FUNCTIONAL': 'PBE'}}},\n",
       "   'PRINT': {'MOMENTS': {'PERIODIC': '.FALSE.'}}},\n",
       "  'SUBSYS': {'CELL': {'A': '0. 0. 0.', 'B': '0. 0. 0.', 'C': '0. 0. 0.'},\n",
       "   'TOPOLOGY': {'COORD_FILE_FORMAT': 'XYZ', 'COORD_FILE_NAME': 'coord.xyz'},\n",
       "   'KIND': [{'_': 'O',\n",
       "     'POTENTIAL': 'GTH-PBE-q6',\n",
       "     'BASIS_SET': 'DZVP-MOLOPT-SR-GTH'},\n",
       "    {'_': 'H', 'POTENTIAL': 'GTH-PBE-q1', 'BASIS_SET': 'DZVP-MOLOPT-SR-GTH'},\n",
       "    {'_': 'Pt',\n",
       "     'POTENTIAL': 'GTH-PBE-q10',\n",
       "     'BASIS_SET': 'DZVP-A5-Q10-323-MOL-T1-DERIVED_SET-1'},\n",
       "    {'_': 'Ag', 'POTENTIAL': 'GTH-PBE-q11', 'BASIS_SET': 'DZVP-MOLOPT-SR-GTH'},\n",
       "    {'_': 'Na', 'POTENTIAL': 'GTH-PBE-q9', 'BASIS_SET': 'DZVP-MOLOPT-SR-GTH'},\n",
       "    {'_': 'K', 'POTENTIAL': 'GTH-PBE-q9', 'BASIS_SET': 'DZVP-MOLOPT-SR-GTH'},\n",
       "    {'_': 'Li', 'POTENTIAL': 'GTH-PBE-q3', 'BASIS_SET': 'DZVP-MOLOPT-SR-GTH'},\n",
       "    {'_': 'C', 'POTENTIAL': 'GTH-PBE-q4', 'BASIS_SET': 'DZVP-MOLOPT-SR-GTH'},\n",
       "    {'_': 'N', 'POTENTIAL': 'GTH-PBE-q5', 'BASIS_SET': 'DZVP-MOLOPT-SR-GTH'},\n",
       "    {'_': 'Cl', 'POTENTIAL': 'GTH-PBE-q7', 'BASIS_SET': 'DZVP-MOLOPT-SR-GTH'},\n",
       "    {'_': 'F', 'POTENTIAL': 'GTH-PBE-q7', 'BASIS_SET': 'DZVP-MOLOPT-SR-GTH'}]},\n",
       "  'PRINT': {'FORCES': {'_': 'ON'}, 'STRESS_TENSOR': {'_': 'ON'}}},\n",
       " 'GLOBAL': {'PROJECT': 'cp2k', 'RUN_TYPE': 'MD'},\n",
       " 'MOTION': {'PRINT': {'TRAJECTORY': {},\n",
       "   'VELOCITIES': {},\n",
       "   'FORCES': {'_': 'ON'},\n",
       "   'RESTART_HISTORY': {'EACH': {'MD': 1000}},\n",
       "   'RESTART': {'BACKUP_COPIES': 3}}}}"
      ]
     },
     "execution_count": 7,
     "metadata": {},
     "output_type": "execute_result"
    }
   ],
   "source": [
    "cp2k_default_input[\"bomd\"]"
   ]
  },
  {
   "cell_type": "code",
   "execution_count": 8,
   "id": "32cc1ba4-a04e-47b8-9dd9-71c10de34798",
   "metadata": {},
   "outputs": [
    {
     "data": {
      "text/plain": [
       "{'FORCE_EVAL': {'METHOD': 'QS',\n",
       "  'STRESS_TENSOR': 'ANALYTICAL',\n",
       "  'DFT': {'BASIS_SET_FILE_NAME': ['BASIS_MOLOPT',\n",
       "    'BASIS_ADMM',\n",
       "    'BASIS_ADMM_MOLOPT',\n",
       "    'BASIS_MOLOPT-HSE06'],\n",
       "   'POTENTIAL_FILE_NAME': 'GTH_POTENTIALS',\n",
       "   'MGRID': {'CUTOFF': 400},\n",
       "   'QS': {'EPS_DEFAULT': 1e-13,\n",
       "    'EXTRAPOLATION': 'ASPC',\n",
       "    'EXTRAPOLATION_ORDER': 0},\n",
       "   'SCF': {'SCF_GUESS': 'RESTART',\n",
       "    'EPS_SCF': 3e-07,\n",
       "    'MAX_SCF': 50,\n",
       "    'OT': {'_': '.FALSE.',\n",
       "     'MINIMIZER': 'DIIS',\n",
       "     'PRECOND_SOLVER': 'INVERSE_UPDATE',\n",
       "     'PRECONDITIONER': 'FULL_SINGLE_INVERSE',\n",
       "     'STEPSIZE': 0.01},\n",
       "    'ADDED_MOS': 500,\n",
       "    'CHOLESKY': 'INVERSE_DBCSR',\n",
       "    'SMEAR': {'_': 'ON',\n",
       "     'METHOD': 'FERMI_DIRAC',\n",
       "     'ELECTRONIC_TEMPERATURE': 300},\n",
       "    'DIAGONALIZATION': {'ALGORITHM': 'STANDARD'},\n",
       "    'MIXING': {'METHOD': 'BROYDEN_MIXING',\n",
       "     'ALPHA': 0.3,\n",
       "     'BETA': 1.5,\n",
       "     'NBROYDEN': 8},\n",
       "    'MAX_SCF_HISTORY': 5,\n",
       "    'OUTER_SCF': {'EPS_SCF': 1e-06, 'MAX_SCF': 20},\n",
       "    'PRINT': {'RESTART': {'EACH': {'MD': 20}}}},\n",
       "   'XC': {'XC_FUNCTIONAL': {'_': 'PBE'},\n",
       "    'vdW_POTENTIAL': {'DISPERSION_FUNCTIONAL': 'PAIR_POTENTIAL',\n",
       "     'PAIR_POTENTIAL': {'TYPE': 'DFTD3',\n",
       "      'PARAMETER_FILE_NAME': 'dftd3.dat',\n",
       "      'REFERENCE_FUNCTIONAL': 'PBE'}}},\n",
       "   'PRINT': {'MOMENTS': {'PERIODIC': '.FALSE.'}}},\n",
       "  'SUBSYS': {'CELL': {'A': '0. 0. 0.', 'B': '0. 0. 0.', 'C': '0. 0. 0.'},\n",
       "   'TOPOLOGY': {'COORD_FILE_FORMAT': 'XYZ', 'COORD_FILE_NAME': 'coord.xyz'},\n",
       "   'KIND': [{'_': 'O',\n",
       "     'POTENTIAL': 'GTH-PBE-q6',\n",
       "     'BASIS_SET': 'DZVP-MOLOPT-SR-GTH'},\n",
       "    {'_': 'H', 'POTENTIAL': 'GTH-PBE-q1', 'BASIS_SET': 'DZVP-MOLOPT-SR-GTH'},\n",
       "    {'_': 'Pt',\n",
       "     'POTENTIAL': 'GTH-PBE-q10',\n",
       "     'BASIS_SET': 'DZVP-A5-Q10-323-MOL-T1-DERIVED_SET-1'},\n",
       "    {'_': 'Ag', 'POTENTIAL': 'GTH-PBE-q11', 'BASIS_SET': 'DZVP-MOLOPT-SR-GTH'},\n",
       "    {'_': 'Na', 'POTENTIAL': 'GTH-PBE-q9', 'BASIS_SET': 'DZVP-MOLOPT-SR-GTH'},\n",
       "    {'_': 'K', 'POTENTIAL': 'GTH-PBE-q9', 'BASIS_SET': 'DZVP-MOLOPT-SR-GTH'},\n",
       "    {'_': 'Li', 'POTENTIAL': 'GTH-PBE-q3', 'BASIS_SET': 'DZVP-MOLOPT-SR-GTH'},\n",
       "    {'_': 'C', 'POTENTIAL': 'GTH-PBE-q4', 'BASIS_SET': 'DZVP-MOLOPT-SR-GTH'},\n",
       "    {'_': 'N', 'POTENTIAL': 'GTH-PBE-q5', 'BASIS_SET': 'DZVP-MOLOPT-SR-GTH'},\n",
       "    {'_': 'Cl', 'POTENTIAL': 'GTH-PBE-q7', 'BASIS_SET': 'DZVP-MOLOPT-SR-GTH'},\n",
       "    {'_': 'F', 'POTENTIAL': 'GTH-PBE-q7', 'BASIS_SET': 'DZVP-MOLOPT-SR-GTH'}]},\n",
       "  'PRINT': {'FORCES': {'_': 'ON'}, 'STRESS_TENSOR': {'_': 'ON'}}},\n",
       " 'GLOBAL': {'PROJECT': 'cp2k', 'RUN_TYPE': 'MD'},\n",
       " 'MOTION': {'PRINT': {'TRAJECTORY': {},\n",
       "   'VELOCITIES': {},\n",
       "   'FORCES': {'_': 'ON'},\n",
       "   'RESTART_HISTORY': {'EACH': {'MD': 1000}},\n",
       "   'RESTART': {'BACKUP_COPIES': 3}}}}"
      ]
     },
     "execution_count": 8,
     "metadata": {},
     "output_type": "execute_result"
    }
   ],
   "source": [
    "cp2k_default_input[\"sgcpmd\"]"
   ]
  },
  {
   "cell_type": "code",
   "execution_count": 9,
   "id": "443fe4ef-ca77-4df0-87ca-3a770a474fd7",
   "metadata": {},
   "outputs": [],
   "source": [
    "from intdielec.io.cp2k import Cp2kInput"
   ]
  },
  {
   "cell_type": "code",
   "execution_count": 11,
   "id": "6850dabf-70cc-4311-b337-4e56cd8e1e27",
   "metadata": {},
   "outputs": [],
   "source": [
    "from ase import build"
   ]
  },
  {
   "cell_type": "code",
   "execution_count": 13,
   "id": "35dd6958-938a-4e72-828b-d3c45618488c",
   "metadata": {},
   "outputs": [],
   "source": [
    "atoms = build.molecule(\"H2O\")"
   ]
  },
  {
   "cell_type": "code",
   "execution_count": 14,
   "id": "f470bbcc-2314-45a1-8a62-87e45d92b9a7",
   "metadata": {},
   "outputs": [],
   "source": [
    "kind_dict = {\n",
    "    \"Al\": {\n",
    "        \"POTENTIAL\": \"GTH-PBE-q3\",\n",
    "        \"BASIS_SET\": \"DZVP-MOLOPT-SR-GTH\"\n",
    "    }\n",
    "}"
   ]
  },
  {
   "cell_type": "code",
   "execution_count": 15,
   "id": "55ea88c4-2b52-4fbc-9954-bf250ea74294",
   "metadata": {},
   "outputs": [],
   "source": [
    "task = Cp2kInput(atoms, input_type=\"geo_opt\", kind=kind_dict)"
   ]
  },
  {
   "cell_type": "code",
   "execution_count": 16,
   "id": "1b003667-99e7-45ed-b746-057356122617",
   "metadata": {},
   "outputs": [
    {
     "data": {
      "text/plain": [
       "{'FORCE_EVAL': {'METHOD': 'QS',\n",
       "  'STRESS_TENSOR': 'ANALYTICAL',\n",
       "  'DFT': {'BASIS_SET_FILE_NAME': ['BASIS_MOLOPT',\n",
       "    'BASIS_ADMM',\n",
       "    'BASIS_ADMM_MOLOPT',\n",
       "    'BASIS_MOLOPT-HSE06'],\n",
       "   'POTENTIAL_FILE_NAME': 'GTH_POTENTIALS',\n",
       "   'MGRID': {'CUTOFF': 400},\n",
       "   'QS': {'EPS_DEFAULT': 1e-13},\n",
       "   'SCF': {'SCF_GUESS': 'RESTART',\n",
       "    'EPS_SCF': 1e-06,\n",
       "    'MAX_SCF': 500,\n",
       "    'OT': {'_': '.FALSE.'},\n",
       "    'ADDED_MOS': 500,\n",
       "    'CHOLESKY': 'INVERSE',\n",
       "    'SMEAR': {'_': 'ON',\n",
       "     'METHOD': 'FERMI_DIRAC',\n",
       "     'ELECTRONIC_TEMPERATURE': 300},\n",
       "    'DIAGONALIZATION': {'ALGORITHM': 'STANDARD'},\n",
       "    'MIXING': {'METHOD': 'BROYDEN_MIXING',\n",
       "     'ALPHA': 0.3,\n",
       "     'BETA': 1.5,\n",
       "     'NBROYDEN': 8}},\n",
       "   'XC': {'XC_FUNCTIONAL': {'_': 'PBE'},\n",
       "    'vdW_POTENTIAL': {'DISPERSION_FUNCTIONAL': 'PAIR_POTENTIAL',\n",
       "     'PAIR_POTENTIAL': {'TYPE': 'DFTD3',\n",
       "      'PARAMETER_FILE_NAME': 'dftd3.dat',\n",
       "      'REFERENCE_FUNCTIONAL': 'PBE'}}},\n",
       "   'PRINT': {'MOMENTS': {'PERIODIC': '.FALSE.'}}},\n",
       "  'SUBSYS': {'CELL': {'A': '0. 0. 0.', 'B': '0. 0. 0.', 'C': '0. 0. 0.'},\n",
       "   'TOPOLOGY': {'COORD_FILE_FORMAT': 'XYZ', 'COORD_FILE_NAME': 'coord.xyz'},\n",
       "   'KIND': [{'_': 'O',\n",
       "     'POTENTIAL': 'GTH-PBE-q6',\n",
       "     'BASIS_SET': 'DZVP-MOLOPT-SR-GTH'},\n",
       "    {'_': 'H', 'POTENTIAL': 'GTH-PBE-q1', 'BASIS_SET': 'DZVP-MOLOPT-SR-GTH'},\n",
       "    {'_': 'Pt',\n",
       "     'POTENTIAL': 'GTH-PBE-q10',\n",
       "     'BASIS_SET': 'DZVP-A5-Q10-323-MOL-T1-DERIVED_SET-1'},\n",
       "    {'_': 'Ag', 'POTENTIAL': 'GTH-PBE-q11', 'BASIS_SET': 'DZVP-MOLOPT-SR-GTH'},\n",
       "    {'_': 'Na', 'POTENTIAL': 'GTH-PBE-q9', 'BASIS_SET': 'DZVP-MOLOPT-SR-GTH'},\n",
       "    {'_': 'K', 'POTENTIAL': 'GTH-PBE-q9', 'BASIS_SET': 'DZVP-MOLOPT-SR-GTH'},\n",
       "    {'_': 'Li', 'POTENTIAL': 'GTH-PBE-q3', 'BASIS_SET': 'DZVP-MOLOPT-SR-GTH'},\n",
       "    {'_': 'C', 'POTENTIAL': 'GTH-PBE-q4', 'BASIS_SET': 'DZVP-MOLOPT-SR-GTH'},\n",
       "    {'_': 'N', 'POTENTIAL': 'GTH-PBE-q5', 'BASIS_SET': 'DZVP-MOLOPT-SR-GTH'},\n",
       "    {'_': 'Cl', 'POTENTIAL': 'GTH-PBE-q7', 'BASIS_SET': 'DZVP-MOLOPT-SR-GTH'},\n",
       "    {'_': 'F', 'POTENTIAL': 'GTH-PBE-q7', 'BASIS_SET': 'DZVP-MOLOPT-SR-GTH'},\n",
       "    {'POTENTIAL': 'GTH-PBE-q3',\n",
       "     'BASIS_SET': 'DZVP-MOLOPT-SR-GTH',\n",
       "     '_': 'Al'}]},\n",
       "  'PRINT': {'FORCES': {'_': 'ON'}, 'STRESS_TENSOR': {'_': 'ON'}}},\n",
       " 'GLOBAL': {'PROJECT': 'cp2k', 'RUN_TYPE': 'GEO_OPT'},\n",
       " 'MOTION': {'GEO_OPT': {'TYPE': 'minimization',\n",
       "   'OPTIMIZER': 'BFGS',\n",
       "   'MAX_ITER': 200,\n",
       "   'MAX_FORCE': 4.5e-05},\n",
       "  'PRINT': {'TRAJECTORY': {},\n",
       "   'VELOCITIES': {},\n",
       "   'FORCES': {'_': 'ON'},\n",
       "   'RESTART_HISTORY': {},\n",
       "   'RESTART': {'BACKUP_COPIES': 3}}}}"
      ]
     },
     "execution_count": 16,
     "metadata": {},
     "output_type": "execute_result"
    }
   ],
   "source": [
    "task.input_dict"
   ]
  },
  {
   "cell_type": "code",
   "execution_count": null,
   "id": "6cf1f944-4a2e-4035-8a2e-475c5dfab188",
   "metadata": {},
   "outputs": [],
   "source": []
  }
 ],
 "metadata": {
  "kernelspec": {
   "display_name": "gnn",
   "language": "python",
   "name": "gnn"
  },
  "language_info": {
   "codemirror_mode": {
    "name": "ipython",
    "version": 3
   },
   "file_extension": ".py",
   "mimetype": "text/x-python",
   "name": "python",
   "nbconvert_exporter": "python",
   "pygments_lexer": "ipython3",
   "version": "3.9.13"
  }
 },
 "nbformat": 4,
 "nbformat_minor": 5
}
