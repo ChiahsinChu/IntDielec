{
  "cells": [
  {
   "cell_type": "code",
   "execution_count": 3,
   "id": "f19813e9-33e3-4e11-bf38-e4948dc25473",
   "metadata": {},
   "outputs": [],
   "source": [
    "import numpy as np"
   ]
  },
  {
   "cell_type": "code",
   "execution_count": 14,
   "id": "c9f3d828-defc-47d2-8c9c-51b9305a0e97",
   "metadata": {},
   "outputs": [],
   "source": [
    "def get_efields(DeltaV, l: list, eps: list):\n",
    "    r_field = 1.0 / np.array(eps)\n",
    "    _delta_v = np.sum(np.array(l) * r_field)\n",
    "    v_coeff = DeltaV / _delta_v\n",
    "    return r_field * v_coeff"
   ]
  },
  {
   "cell_type": "code",
   "execution_count": 15,
   "id": "afb9c884-7c63-4653-9a01-a14871951a00",
   "metadata": {},
   "outputs": [
    {
     "data": {
      "text/plain": [
       "array([0.04, 0.02, 0.04])"
      ]
     },
     "execution_count": 15,
     "metadata": {},
     "output_type": "execute_result"
    }
   ],
   "source": [
    "get_efields(1.0, [10, 10, 10], [1, 2, 1])"
   ]
  },
  {
   "cell_type": "code",
   "execution_count": 11,
   "id": "de25db6b-01c1-4b74-b027-21f2405162e0",
   "metadata": {},
   "outputs": [],
   "source": [
    "l_vac_l = 10.0\n",
    "l_int = 5.0\n",
    "l_wat = 10.0\n",
    "l_vac_r = 21.0\n",
    "l = [l_vac_l, l_int, l_wat, l_vac_r]\n",
    "eps = [1.0, 4.0, 2.0, 1.0]"
   ]
  },
  {
   "cell_type": "code",
   "execution_count": 16,
   "id": "4bf8c822-c24a-43d9-b97e-d4c38d4274b0",
   "metadata": {},
   "outputs": [],
   "source": [
    "efields = get_efields(1.0, l, eps)"
   ]
  },
  {
   "cell_type": "code",
   "execution_count": 17,
   "id": "43fad725-6756-4476-808b-3ea2719c025b",
   "metadata": {},
   "outputs": [
    {
     "data": {
      "text/plain": [
       "array([0.02684564, 0.00671141, 0.01342282, 0.02684564])"
      ]
     },
     "execution_count": 17,
     "metadata": {},
     "output_type": "execute_result"
    }
   ],
   "source": [
    "efields"
   ]
  },
  {
   "cell_type": "code",
   "execution_count": 18,
   "id": "af7eb89c-4dcb-49a3-9b43-a27e71373db2",
   "metadata": {},
   "outputs": [],
   "source": [
    "v_test = 1.0 - (l_vac_r * efields[-1] + 5 * efields[-2])"
   ]
  },
  {
   "cell_type": "code",
   "execution_count": 19,
   "id": "ac5dab26-a0bf-4723-ad99-7d61a3bf6460",
   "metadata": {},
   "outputs": [
    {
     "data": {
      "text/plain": [
       "0.3691275167785235"
      ]
     },
     "execution_count": 19,
     "metadata": {},
     "output_type": "execute_result"
    }
   ],
   "source": [
    "v_test"
   ]
  },
  {
   "cell_type": "code",
   "execution_count": 20,
   "id": "3bd6df40-6a84-4492-a862-de08a95eba2d",
   "metadata": {},
   "outputs": [
    {
     "name": "stdout",
     "output_type": "stream",
     "text": [
      "0.3846153846153846\n"
     ]
    }
   ],
   "source": [
    "l_vac_l = 10.0\n",
    "l_int = 5.0\n",
    "l_wat = 10.0\n",
    "l_vac_r = 26.0\n",
    "l = [l_vac_l, l_int, l_wat, l_vac_r]\n",
    "eps = [1.0, 4.0, 2.0, 1.0]\n",
    "\n",
    "efields = get_efields(1.0, l, eps)\n",
    "v_test = 1.0 - (l_vac_r * efields[-1])\n",
    "print(v_test)"
   ]
  },
  {
   "cell_type": "code",
   "execution_count": null,
   "id": "5d5a4368-f98e-41c5-8ccc-ce6feb7e1394",
   "metadata": {},
   "outputs": [],
   "source": []
  }
 ],
 "metadata": {
  "kernelspec": {
   "display_name": "leiden",
   "language": "python",
   "name": "leiden"
  },
  "language_info": {
   "codemirror_mode": {
    "name": "ipython",
    "version": 3
   },
   "file_extension": ".py",
   "mimetype": "text/x-python",
   "name": "python",
   "nbconvert_exporter": "python",
   "pygments_lexer": "ipython3",
   "version": "3.9.16"
  }
 },
 "nbformat": 4,
 "nbformat_minor": 5
}
